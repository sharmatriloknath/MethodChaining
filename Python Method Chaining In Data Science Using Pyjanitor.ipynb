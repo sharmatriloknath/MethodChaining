{
 "cells": [
  {
   "cell_type": "markdown",
   "id": "f2162fc9",
   "metadata": {},
   "source": [
    "\n",
    "## Method Chaining In Data Science\n",
    "**Method chaining is a technique that is used for making multiple method calls on the same object, using the object reference just once.**\n",
    "![Chaining](https://i.ytimg.com/vi/3p3gF8b4cN0/maxresdefault.jpg)"
   ]
  },
  {
   "cell_type": "markdown",
   "id": "6964ba64",
   "metadata": {},
   "source": [
    "**How Method Chaining works in python**"
   ]
  },
  {
   "cell_type": "code",
   "execution_count": 4,
   "id": "d074df8d",
   "metadata": {},
   "outputs": [
    {
     "name": "stdout",
     "output_type": "stream",
     "text": [
      "Drawing John to screen at [1. 2.]\n"
     ]
    }
   ],
   "source": [
    "import numpy as np\n",
    "\n",
    "\n",
    "class Player:\n",
    "    def __init__(self, name, position, fatigue=0):\n",
    "        self.name = name\n",
    "        self.position = position\n",
    "        self.fatigue = fatigue\n",
    "\n",
    "    def draw(self):\n",
    "        print(f\"Drawing {self.name} to screen at {self.position}\")\n",
    "        return self\n",
    "\n",
    "    def move(self, delta):\n",
    "        self.position += delta\n",
    "        self.fatigue += 1\n",
    "        return self\n",
    "\n",
    "    def rest(self):\n",
    "        self.fatigue = 0\n",
    "        return self\n",
    "\n",
    "\n",
    "def main():\n",
    "    john = Player(\"John\", np.array([0.0, 0.0]))\n",
    "    UP = np.array([0.0, 1.0])\n",
    "    RIGHT = np.array([1.0, 0.0])\n",
    "    \n",
    "    # Here You can see we are calling multiple methods in chaing with using object reference only once.    \n",
    "    (\n",
    "        john.move(UP)\n",
    "            .move(RIGHT)\n",
    "            .move(UP)\n",
    "            .rest()\n",
    "            .draw()\n",
    "    )\n",
    "\n",
    "\n",
    "if __name__ == \"__main__\":\n",
    "    main()"
   ]
  },
  {
   "cell_type": "markdown",
   "id": "0b3b2bc2",
   "metadata": {},
   "source": [
    "**How To Use Chaining with String Inbuilt Methods**"
   ]
  },
  {
   "cell_type": "code",
   "execution_count": 7,
   "id": "0d5c39f4",
   "metadata": {},
   "outputs": [
    {
     "name": "stdout",
     "output_type": "stream",
     "text": [
      "                                 COLLECTION OF FACTS IS CALLED DATA                                 \n"
     ]
    }
   ],
   "source": [
    "# Inbuilt Methods In String\n",
    "def string_inbuilt_method_chaining():\n",
    "    data = \"Collection Of Facts Is Called Data\"\n",
    "    \n",
    "    # Here also you can check for the method chainging.     \n",
    "    chaining_result = data.strip().upper().center(100)\n",
    "    print(chaining_result)\n",
    "string_inbuilt_method_chaining()"
   ]
  },
  {
   "cell_type": "markdown",
   "id": "27787e54",
   "metadata": {},
   "source": [
    "## Method Chaining In Data Science"
   ]
  },
  {
   "cell_type": "markdown",
   "id": "108b888d",
   "metadata": {},
   "source": [
    "**Let's See How to Use Method Chaining In Data Cleaning**"
   ]
  },
  {
   "cell_type": "code",
   "execution_count": 19,
   "id": "22e1458f",
   "metadata": {},
   "outputs": [],
   "source": [
    "# Let's import some libraries and begin with some sample data for this example\n",
    "# This Example is taken from https://pyjanitor-devs.github.io/pyjanitor/\n",
    "# Libraries\n",
    "import numpy as np\n",
    "import pandas as pd\n",
    "\n",
    "# Sample Data curated for this example\n",
    "company_sales = {\n",
    "    'SalesMonth': ['Jan', 'Feb', 'Mar', 'April'],\n",
    "    'Company1': [150.0, 200.0, 300.0, 400.0],\n",
    "    'Company2': [180.0, 250.0, np.nan, 500.0],\n",
    "    'Company3': [400.0, 500.0, 600.0, 675.0]\n",
    "}"
   ]
  },
  {
   "cell_type": "markdown",
   "id": "cd271172",
   "metadata": {},
   "source": [
    "**Most of the users working in pandas like**"
   ]
  },
  {
   "cell_type": "code",
   "execution_count": 15,
   "id": "e1e33464",
   "metadata": {},
   "outputs": [
    {
     "data": {
      "text/html": [
       "<div>\n",
       "<style scoped>\n",
       "    .dataframe tbody tr th:only-of-type {\n",
       "        vertical-align: middle;\n",
       "    }\n",
       "\n",
       "    .dataframe tbody tr th {\n",
       "        vertical-align: top;\n",
       "    }\n",
       "\n",
       "    .dataframe thead th {\n",
       "        text-align: right;\n",
       "    }\n",
       "</style>\n",
       "<table border=\"1\" class=\"dataframe\">\n",
       "  <thead>\n",
       "    <tr style=\"text-align: right;\">\n",
       "      <th></th>\n",
       "      <th>SalesMonth</th>\n",
       "      <th>Amazon</th>\n",
       "      <th>Facebook</th>\n",
       "      <th>Google</th>\n",
       "    </tr>\n",
       "  </thead>\n",
       "  <tbody>\n",
       "    <tr>\n",
       "      <th>0</th>\n",
       "      <td>Jan</td>\n",
       "      <td>180.0</td>\n",
       "      <td>400.0</td>\n",
       "      <td>450.0</td>\n",
       "    </tr>\n",
       "    <tr>\n",
       "      <th>1</th>\n",
       "      <td>Feb</td>\n",
       "      <td>250.0</td>\n",
       "      <td>500.0</td>\n",
       "      <td>550.0</td>\n",
       "    </tr>\n",
       "    <tr>\n",
       "      <th>3</th>\n",
       "      <td>April</td>\n",
       "      <td>500.0</td>\n",
       "      <td>675.0</td>\n",
       "      <td>800.0</td>\n",
       "    </tr>\n",
       "  </tbody>\n",
       "</table>\n",
       "</div>"
      ],
      "text/plain": [
       "  SalesMonth  Amazon  Facebook  Google\n",
       "0        Jan   180.0     400.0   450.0\n",
       "1        Feb   250.0     500.0   550.0\n",
       "3      April   500.0     675.0   800.0"
      ]
     },
     "execution_count": 15,
     "metadata": {},
     "output_type": "execute_result"
    }
   ],
   "source": [
    "# The Pandas Way\n",
    "# 1. Create a pandas DataFrame from the company_sales dictionary\n",
    "df = pd.DataFrame.from_dict(company_sales)\n",
    "\n",
    "# 2. Delete a column from the DataFrame. Say 'Company1'\n",
    "del df['Company1']\n",
    "\n",
    "# 3. Drop rows that have empty values in columns 'Company2' and 'Company3'\n",
    "df = df.dropna(subset=['Company2', 'Company3'])\n",
    "\n",
    "# 4. Rename 'Company2' to 'Amazon' and 'Company3' to 'Facebook'\n",
    "df = df.rename(\n",
    "    {\n",
    "        'Company2': 'Amazon',\n",
    "        'Company3': 'Facebook',\n",
    "    },\n",
    "    axis=1,\n",
    ")\n",
    "\n",
    "# 5. Let's add some data for another company. Say 'Google'\n",
    "df['Google'] = [450.0, 550.0, 800.0]\n",
    "df"
   ]
  },
  {
   "cell_type": "markdown",
   "id": "cff0db49",
   "metadata": {},
   "source": [
    "**We Can use Method Chaining With Pandas**"
   ]
  },
  {
   "cell_type": "code",
   "execution_count": 17,
   "id": "1ee6c2ac",
   "metadata": {},
   "outputs": [
    {
     "data": {
      "text/html": [
       "<div>\n",
       "<style scoped>\n",
       "    .dataframe tbody tr th:only-of-type {\n",
       "        vertical-align: middle;\n",
       "    }\n",
       "\n",
       "    .dataframe tbody tr th {\n",
       "        vertical-align: top;\n",
       "    }\n",
       "\n",
       "    .dataframe thead th {\n",
       "        text-align: right;\n",
       "    }\n",
       "</style>\n",
       "<table border=\"1\" class=\"dataframe\">\n",
       "  <thead>\n",
       "    <tr style=\"text-align: right;\">\n",
       "      <th></th>\n",
       "      <th>SalesMonth</th>\n",
       "      <th>Amazon</th>\n",
       "      <th>Facebook</th>\n",
       "      <th>Google</th>\n",
       "    </tr>\n",
       "  </thead>\n",
       "  <tbody>\n",
       "    <tr>\n",
       "      <th>0</th>\n",
       "      <td>Jan</td>\n",
       "      <td>180.0</td>\n",
       "      <td>400.0</td>\n",
       "      <td>450.0</td>\n",
       "    </tr>\n",
       "    <tr>\n",
       "      <th>1</th>\n",
       "      <td>Feb</td>\n",
       "      <td>250.0</td>\n",
       "      <td>500.0</td>\n",
       "      <td>550.0</td>\n",
       "    </tr>\n",
       "    <tr>\n",
       "      <th>3</th>\n",
       "      <td>April</td>\n",
       "      <td>500.0</td>\n",
       "      <td>675.0</td>\n",
       "      <td>800.0</td>\n",
       "    </tr>\n",
       "  </tbody>\n",
       "</table>\n",
       "</div>"
      ],
      "text/plain": [
       "  SalesMonth  Amazon  Facebook  Google\n",
       "0        Jan   180.0     400.0   450.0\n",
       "1        Feb   250.0     500.0   550.0\n",
       "3      April   500.0     675.0   800.0"
      ]
     },
     "execution_count": 17,
     "metadata": {},
     "output_type": "execute_result"
    }
   ],
   "source": [
    "# We Can Use Chaining Like\n",
    "df = (\n",
    "    pd.DataFrame(company_sales)\n",
    "    .drop(columns=\"Company1\")\n",
    "    .dropna(subset=[\"Company2\", \"Company3\"])\n",
    "    .rename(columns={\"Company2\": \"Amazon\", \"Company3\": \"Facebook\"})\n",
    "    .assign(Google=[450.0, 550.0, 800.0])\n",
    ")\n",
    "df"
   ]
  },
  {
   "cell_type": "markdown",
   "id": "b2627aa7",
   "metadata": {},
   "source": [
    "## pyjanitor"
   ]
  },
  {
   "cell_type": "markdown",
   "id": "6a5b7f77",
   "metadata": {},
   "source": [
    "_pyjanitor is a Python implementation of the R package janitor, and provides a clean API for cleaning data._"
   ]
  },
  {
   "cell_type": "markdown",
   "id": "3d02962b",
   "metadata": {},
   "source": [
    "**Functionality**\n",
    "\n",
    "_Current functionality includes:_\n",
    "\n",
    "* Cleaning columns name (multi-indexes are possible!)\n",
    "* Removing empty rows and columns\n",
    "* Identifying duplicate entries\n",
    "* Encoding columns as categorical\n",
    "* Splitting your data into features and targets (for machine learning)\n",
    "* Adding, removing, and renaming columns\n",
    "* Coalesce multiple columns into a single column\n",
    "* Date conversions (from matlab, excel, unix) to Python datetime format\n",
    "* Expand a single column that has delimited, categorical values into dummy-encoded variables\n",
    "* Concatenating and deconcatenating columns, based on a delimiter \n",
    "etc..\n"
   ]
  },
  {
   "cell_type": "code",
   "execution_count": 22,
   "id": "cebe6d6a",
   "metadata": {},
   "outputs": [],
   "source": [
    "# !pip install pyjanitor"
   ]
  },
  {
   "cell_type": "code",
   "execution_count": 21,
   "id": "841ca152",
   "metadata": {},
   "outputs": [
    {
     "data": {
      "text/html": [
       "<div>\n",
       "<style scoped>\n",
       "    .dataframe tbody tr th:only-of-type {\n",
       "        vertical-align: middle;\n",
       "    }\n",
       "\n",
       "    .dataframe tbody tr th {\n",
       "        vertical-align: top;\n",
       "    }\n",
       "\n",
       "    .dataframe thead th {\n",
       "        text-align: right;\n",
       "    }\n",
       "</style>\n",
       "<table border=\"1\" class=\"dataframe\">\n",
       "  <thead>\n",
       "    <tr style=\"text-align: right;\">\n",
       "      <th></th>\n",
       "      <th>SalesMonth</th>\n",
       "      <th>Amazon</th>\n",
       "      <th>Facebook</th>\n",
       "      <th>Google</th>\n",
       "    </tr>\n",
       "  </thead>\n",
       "  <tbody>\n",
       "    <tr>\n",
       "      <th>0</th>\n",
       "      <td>Jan</td>\n",
       "      <td>180.0</td>\n",
       "      <td>400.0</td>\n",
       "      <td>450.0</td>\n",
       "    </tr>\n",
       "    <tr>\n",
       "      <th>1</th>\n",
       "      <td>Feb</td>\n",
       "      <td>250.0</td>\n",
       "      <td>500.0</td>\n",
       "      <td>550.0</td>\n",
       "    </tr>\n",
       "    <tr>\n",
       "      <th>3</th>\n",
       "      <td>April</td>\n",
       "      <td>500.0</td>\n",
       "      <td>675.0</td>\n",
       "      <td>800.0</td>\n",
       "    </tr>\n",
       "  </tbody>\n",
       "</table>\n",
       "</div>"
      ],
      "text/plain": [
       "  SalesMonth  Amazon  Facebook  Google\n",
       "0        Jan   180.0     400.0   450.0\n",
       "1        Feb   250.0     500.0   550.0\n",
       "3      April   500.0     675.0   800.0"
      ]
     },
     "execution_count": 21,
     "metadata": {},
     "output_type": "execute_result"
    }
   ],
   "source": [
    "# With pyjanitor, we enable method chaining with method names that are explicitly named verbs, which describe the action taken.\n",
    "import janitor\n",
    "\n",
    "df = (\n",
    "    pd.DataFrame.from_dict(company_sales)\n",
    "    .remove_columns([\"Company1\"])\n",
    "    .dropna(subset=[\"Company2\", \"Company3\"])\n",
    "    .rename_column(\"Company2\", \"Amazon\")\n",
    "    .rename_column(\"Company3\", \"Facebook\")\n",
    "    .add_column(\"Google\", [450.0, 550.0, 800.0])\n",
    ")\n",
    "\n",
    "df"
   ]
  },
  {
   "cell_type": "markdown",
   "id": "4873bdd0",
   "metadata": {},
   "source": [
    "**REFERENCE**\n",
    "* Check the documentation of  [pyjanitor](https://pyjanitor-devs.github.io/pyjanitor/).\n",
    "\n",
    "* Chaining Method taken from [github](https://github.com/mCodingLLC/VideosSampleCode/blob/master/videos/095_method_chaining_and_self/method_chaining_and_self.py).\n",
    "![thankyou](https://th.bing.com/th/id/R.f05407fe1f2bb42fecc41cd33d86231e?rik=GOoiElHBW7Ggtw&riu=http%3a%2f%2fi2.wp.com%2fwww.studentschillout.com%2fwp%2fwp-content%2fuploads%2f2015%2f06%2fIMG_9707.jpg&ehk=bow2x05m1kdQF1Syrwr0PoDdY9RQw2EO3ysatye10x4%3d&risl=&pid=ImgRaw&r=0)"
   ]
  }
 ],
 "metadata": {
  "kernelspec": {
   "display_name": "Python 3 (ipykernel)",
   "language": "python",
   "name": "python3"
  },
  "language_info": {
   "codemirror_mode": {
    "name": "ipython",
    "version": 3
   },
   "file_extension": ".py",
   "mimetype": "text/x-python",
   "name": "python",
   "nbconvert_exporter": "python",
   "pygments_lexer": "ipython3",
   "version": "3.9.6"
  }
 },
 "nbformat": 4,
 "nbformat_minor": 5
}
